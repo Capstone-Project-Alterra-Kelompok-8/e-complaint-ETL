{
 "cells": [
  {
   "cell_type": "code",
   "execution_count": 2,
   "metadata": {},
   "outputs": [
    {
     "name": "stderr",
     "output_type": "stream",
     "text": [
      "/home/raihan12/.local/lib/python3.10/site-packages/tqdm/auto.py:21: TqdmWarning: IProgress not found. Please update jupyter and ipywidgets. See https://ipywidgets.readthedocs.io/en/stable/user_install.html\n",
      "  from .autonotebook import tqdm as notebook_tqdm\n"
     ]
    }
   ],
   "source": [
    "from dotenv import load_dotenv\n",
    "import os\n",
    "from google.cloud import bigquery\n",
    "import google.generativeai as genai\n",
    "from IPython.display import Markdown\n",
    "import textwrap\n"
   ]
  },
  {
   "cell_type": "markdown",
   "metadata": {},
   "source": [
    "# SET UP"
   ]
  },
  {
   "cell_type": "code",
   "execution_count": 4,
   "metadata": {},
   "outputs": [
    {
     "data": {
      "text/plain": [
       "True"
      ]
     },
     "execution_count": 4,
     "metadata": {},
     "output_type": "execute_result"
    }
   ],
   "source": [
    "load_dotenv()"
   ]
  },
  {
   "cell_type": "code",
   "execution_count": 5,
   "metadata": {},
   "outputs": [],
   "source": [
    "GOOGLE_APPLICATION_CREDENTIALS = os.environ[\"GOOGLE_APPLICATION_CREDENTIALS\"]\n",
    "client = bigquery.Client()\n",
    "\n",
    "GEMINI_API_KEY = os.getenv(\"GEMINI_API_KEY\")\n",
    "model = genai.GenerativeModel('gemini-pro')"
   ]
  },
  {
   "cell_type": "code",
   "execution_count": 6,
   "metadata": {},
   "outputs": [],
   "source": [
    "def to_markdown(text):\n",
    "  text = text.replace('•', '  *')\n",
    "  return Markdown(textwrap.indent(text, '> ', predicate=lambda _: True))"
   ]
  },
  {
   "cell_type": "code",
   "execution_count": 10,
   "metadata": {},
   "outputs": [
    {
     "name": "stderr",
     "output_type": "stream",
     "text": [
      "/home/raihan12/.local/lib/python3.10/site-packages/google/cloud/bigquery/table.py:1727: UserWarning: BigQuery Storage module not found, fetch data with the REST endpoint instead.\n",
      "  warnings.warn(\n"
     ]
    }
   ],
   "source": [
    "#Write Query on BQ\n",
    "QUERY = \"\"\"\n",
    "SELECT id, description FROM `capstone-alterra-424814.dim_tables.dim_complaints` WHERE TIMESTAMP_TRUNC(updated_at, DAY) >= TIMESTAMP(\"2024-04-17\") LIMIT 1000\n",
    "  \"\"\"\n",
    "\n",
    "Query_Results = client.query(QUERY)\n",
    "df = Query_Results.to_dataframe()"
   ]
  },
  {
   "cell_type": "markdown",
   "metadata": {},
   "source": [
    "# DATA"
   ]
  },
  {
   "cell_type": "code",
   "execution_count": 11,
   "metadata": {},
   "outputs": [
    {
     "data": {
      "text/html": [
       "<div>\n",
       "<style scoped>\n",
       "    .dataframe tbody tr th:only-of-type {\n",
       "        vertical-align: middle;\n",
       "    }\n",
       "\n",
       "    .dataframe tbody tr th {\n",
       "        vertical-align: top;\n",
       "    }\n",
       "\n",
       "    .dataframe thead th {\n",
       "        text-align: right;\n",
       "    }\n",
       "</style>\n",
       "<table border=\"1\" class=\"dataframe\">\n",
       "  <thead>\n",
       "    <tr style=\"text-align: right;\">\n",
       "      <th></th>\n",
       "      <th>id</th>\n",
       "      <th>description</th>\n",
       "    </tr>\n",
       "  </thead>\n",
       "  <tbody>\n",
       "    <tr>\n",
       "      <th>0</th>\n",
       "      <td>C-abc123def456</td>\n",
       "      <td>Fasilitas kesehatan perlu diperbanyak di daera...</td>\n",
       "    </tr>\n",
       "    <tr>\n",
       "      <th>1</th>\n",
       "      <td>C-qazw7edcrfvgt</td>\n",
       "      <td>Transportasi malam hari sering terlambat. Hal ...</td>\n",
       "    </tr>\n",
       "    <tr>\n",
       "      <th>2</th>\n",
       "      <td>C-poiuytrqazsx</td>\n",
       "      <td>Pendataan penduduk desa kami belum dilakukan. ...</td>\n",
       "    </tr>\n",
       "    <tr>\n",
       "      <th>3</th>\n",
       "      <td>C-5f4e3d2c1b</td>\n",
       "      <td>Lingkungan di sekitar kami tercemar limbah ind...</td>\n",
       "    </tr>\n",
       "    <tr>\n",
       "      <th>4</th>\n",
       "      <td>C-qazwsxedc0r</td>\n",
       "      <td>Ketersediaan dokter di puskesmas perlu ditingk...</td>\n",
       "    </tr>\n",
       "    <tr>\n",
       "      <th>...</th>\n",
       "      <td>...</td>\n",
       "      <td>...</td>\n",
       "    </tr>\n",
       "    <tr>\n",
       "      <th>61</th>\n",
       "      <td>C-edcr37gt9hb</td>\n",
       "      <td>Transportasi malam hari sering terlambat</td>\n",
       "    </tr>\n",
       "    <tr>\n",
       "      <th>62</th>\n",
       "      <td>C-qwertyuiop1</td>\n",
       "      <td>Infrastruktur jalan rusak parah setelah musim ...</td>\n",
       "    </tr>\n",
       "    <tr>\n",
       "      <th>63</th>\n",
       "      <td>C-poiuyt11xx</td>\n",
       "      <td>Keamanan di perumahan kami sering terjadi penc...</td>\n",
       "    </tr>\n",
       "    <tr>\n",
       "      <th>64</th>\n",
       "      <td>C-4c6baaeff8</td>\n",
       "      <td>tolong min lauknya ditambah</td>\n",
       "    </tr>\n",
       "    <tr>\n",
       "      <th>65</th>\n",
       "      <td>C-ac3278f776</td>\n",
       "      <td>jalan rusak pak mohon diperbaiki</td>\n",
       "    </tr>\n",
       "  </tbody>\n",
       "</table>\n",
       "<p>66 rows × 2 columns</p>\n",
       "</div>"
      ],
      "text/plain": [
       "                 id                                        description\n",
       "0    C-abc123def456  Fasilitas kesehatan perlu diperbanyak di daera...\n",
       "1   C-qazw7edcrfvgt  Transportasi malam hari sering terlambat. Hal ...\n",
       "2    C-poiuytrqazsx  Pendataan penduduk desa kami belum dilakukan. ...\n",
       "3      C-5f4e3d2c1b  Lingkungan di sekitar kami tercemar limbah ind...\n",
       "4     C-qazwsxedc0r  Ketersediaan dokter di puskesmas perlu ditingk...\n",
       "..              ...                                                ...\n",
       "61    C-edcr37gt9hb           Transportasi malam hari sering terlambat\n",
       "62    C-qwertyuiop1  Infrastruktur jalan rusak parah setelah musim ...\n",
       "63     C-poiuyt11xx  Keamanan di perumahan kami sering terjadi penc...\n",
       "64     C-4c6baaeff8                        tolong min lauknya ditambah\n",
       "65     C-ac3278f776                   jalan rusak pak mohon diperbaiki\n",
       "\n",
       "[66 rows x 2 columns]"
      ]
     },
     "execution_count": 11,
     "metadata": {},
     "output_type": "execute_result"
    }
   ],
   "source": [
    "df"
   ]
  },
  {
   "cell_type": "code",
   "execution_count": null,
   "metadata": {},
   "outputs": [],
   "source": [
    "def get_complaint_by_id(id_complaint, dataset):\n",
    "    try:\n",
    "        complaint = dataset.loc[dataset['id'] == id_complaint, 'description'].values[0]\n",
    "        return complaint\n",
    "    except IndexError:\n",
    "        return None\n",
    "\n",
    "def recommendation(id_complaint, dataset):\n",
    "    complaint = get_complaint_by_id(id_complaint, dataset)\n",
    "    if not complaint:\n",
    "        return \"Complaint ID not found in the dataset.\"\n",
    "    \n",
    "    prompt = f\"\"\"\n",
    "                Anda adalah seorang admin yang bertugas mengelola keluhan dan komplain di masyarakat wilayah provinsi di Banten, Suatu hari ada komplain yang masuk seperti berikut\n",
    "                {complaint}\n",
    "                berdasarkan komplain yang diadukan bagaimana anda akan menjawab keluhan tersebut? (bukan berupa surat formal, hanya saran jawaban)\n",
    "            \"\"\"\n",
    "    response = model.generate_content(prompt)\n",
    "\n",
    "    return response\n",
    "\n",
    "id = input(\"Masukkan ID Complaint : \")\n",
    "\n",
    "hasil = recommendation(id, df)\n",
    "\n",
    "# Assuming 'text' property exists within GenerateContentResponse\n",
    "response_text = hasil.text\n",
    "print(\"\\n-----------------------\")\n",
    "print(\"Hasil Analisis:\")\n",
    "print(\"\\n-----------------------\")\n",
    "print(response_text)"
   ]
  }
 ],
 "metadata": {
  "kernelspec": {
   "display_name": "Python 3",
   "language": "python",
   "name": "python3"
  },
  "language_info": {
   "codemirror_mode": {
    "name": "ipython",
    "version": 3
   },
   "file_extension": ".py",
   "mimetype": "text/x-python",
   "name": "python",
   "nbconvert_exporter": "python",
   "pygments_lexer": "ipython3",
   "version": "3.10.12"
  }
 },
 "nbformat": 4,
 "nbformat_minor": 2
}
